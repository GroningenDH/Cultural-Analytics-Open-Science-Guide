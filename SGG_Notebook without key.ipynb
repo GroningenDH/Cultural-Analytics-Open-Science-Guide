{
 "cells": [
  {
   "cell_type": "markdown",
   "id": "509a2918",
   "metadata": {},
   "source": [
    "## 0. Introduction"
   ]
  },
  {
   "cell_type": "markdown",
   "id": "289c3303",
   "metadata": {},
   "source": [
    "Since its debut in 2003, Steam, a sizable digital distribution service for video games, has drawn a lot of attention. It is currently the largest digital distribution platform for computer games worldwide. The Steam platform held approximately 75% of the market share in 2013. In 2019, Steam saw over 34,000 games on Steam's shelves and over 95 million monthly active users, while Steam is available in all major global gaming markets. As such, the data on the platform regarding video games is very representative. We believe it provides a more representative picture of the changing trends in video game themes and genres over the past 10 years. \n",
    "\n",
    "![juypter](https://upload.wikimedia.org/wikipedia/commons/c/c1/Steam_2016_logo_black.svg)\n",
    "\n",
    "We take the \"weekly charts\" stats from Steam store `https://store.steampowered.com/charts` as the source of data.\n",
    "\n",
    "The goal of the project is to collect, collate, analyse and visualise Steam game data to produce a report on global trends in Steam games, which will include the most popular categories of games by country and region, etc.\n"
   ]
  },
  {
   "cell_type": "markdown",
   "id": "326217c5",
   "metadata": {},
   "source": [
    "### This project is divided into three parts."
   ]
  },
  {
   "cell_type": "markdown",
   "id": "56343311",
   "metadata": {},
   "source": [
    "**Part 1:** set up and an introduction to other background projects.\n",
    "\n",
    "**Part 2:** A tutorial on crawling and cleaning data. this part will introduce scraping methods for dynamic web information and introduce the functionality of the basic selenium library.\n",
    "\n",
    "**Part 3:** Active learning practice. This part will contain 4 questions related to the previous content and you will need to complete the questions based on the content in the tutorial."
   ]
  },
  {
   "cell_type": "markdown",
   "id": "5381aca8",
   "metadata": {},
   "source": [
    "### Contributor Roles"
   ]
  },
  {
   "cell_type": "markdown",
   "id": "b200c8d5",
   "metadata": {},
   "source": [
    "https://credit.niso.org/contributor-roles-defined/"
   ]
  },
  {
   "cell_type": "markdown",
   "id": "492fd40e",
   "metadata": {},
   "source": [
    "**Conceptualization:** `BAI, Haozhe`/`JIANG, Yingyue`/`LIU, Ruohan`/`WAN, Spring`/`ZHAO, Yuanjie`\n",
    "\n",
    "**Data curation:** `BAI, Haozhe`/`JIANG, Yingyue`/`LIU, Ruohan`/`WAN, Spring`/`ZHAO, Yuanjie`\n",
    "\n",
    "**Formal analysis:** `BAI, Haozhe`/`JIANG, Yingyue`/`LIU, Ruohan`/`ZHAO, Yuanjie`\n",
    "\n",
    "**Software:** `BAI, Haozhe`/`ZHAO, Yuanjie`\n",
    "\n",
    "**Validation:** `ZHAO, Yuanjie`\n",
    "\n",
    "**Visualization:** `WAN, Spring`\n",
    "\n",
    "**Writing – original draft:** `BAI, Haozhe`/`WAN, Spring`/`ZHAO, Yuanjie`\n",
    "\n",
    "**Writing – review & editing:** `BAI, Haozhe`/`JIANG, Yingyue`/`LIU, Ruohan`/`WAN, Spring`/`ZHAO, Yuanjie`\n"
   ]
  },
  {
   "cell_type": "markdown",
   "id": "4b24a0a0",
   "metadata": {},
   "source": [
    " "
   ]
  },
  {
   "cell_type": "markdown",
   "id": "6b25bf2d",
   "metadata": {},
   "source": [
    "## I. Preparation"
   ]
  },
  {
   "cell_type": "markdown",
   "id": "f7354565",
   "metadata": {},
   "source": [
    "`Selenium` is an open source python library for automated testing to validate web applications across different browsers and platforms.\n",
    "\n",
    "For installing and documentation, please refer to `https://selenium-python.readthedocs.io/index.html`"
   ]
  },
  {
   "cell_type": "code",
   "execution_count": 10,
   "id": "ffffea6a",
   "metadata": {},
   "outputs": [
    {
     "name": "stdout",
     "output_type": "stream",
     "text": [
      "Collecting selenium==4.7.2\n",
      "  Using cached selenium-4.7.2-py3-none-any.whl (6.3 MB)\n",
      "Requirement already satisfied: urllib3[socks]~=1.26 in /Users/elsiana/opt/anaconda3/lib/python3.9/site-packages (from selenium==4.7.2) (1.26.9)\n",
      "Collecting trio-websocket~=0.9\n",
      "  Using cached trio_websocket-0.9.2-py3-none-any.whl (16 kB)\n",
      "Collecting trio~=0.17\n",
      "  Using cached trio-0.22.0-py3-none-any.whl (384 kB)\n",
      "Requirement already satisfied: certifi>=2021.10.8 in /Users/elsiana/opt/anaconda3/lib/python3.9/site-packages (from selenium==4.7.2) (2021.10.8)\n",
      "Collecting outcome\n",
      "  Using cached outcome-1.2.0-py2.py3-none-any.whl (9.7 kB)\n",
      "Collecting exceptiongroup>=1.0.0rc9\n",
      "  Using cached exceptiongroup-1.1.0-py3-none-any.whl (14 kB)\n",
      "Requirement already satisfied: attrs>=19.2.0 in /Users/elsiana/opt/anaconda3/lib/python3.9/site-packages (from trio~=0.17->selenium==4.7.2) (21.4.0)\n",
      "Collecting async-generator>=1.9\n",
      "  Using cached async_generator-1.10-py3-none-any.whl (18 kB)\n",
      "Requirement already satisfied: sniffio in /Users/elsiana/opt/anaconda3/lib/python3.9/site-packages (from trio~=0.17->selenium==4.7.2) (1.2.0)\n",
      "Requirement already satisfied: idna in /Users/elsiana/opt/anaconda3/lib/python3.9/site-packages (from trio~=0.17->selenium==4.7.2) (3.3)\n",
      "Requirement already satisfied: sortedcontainers in /Users/elsiana/opt/anaconda3/lib/python3.9/site-packages (from trio~=0.17->selenium==4.7.2) (2.4.0)\n",
      "Collecting wsproto>=0.14\n",
      "  Using cached wsproto-1.2.0-py3-none-any.whl (24 kB)\n",
      "Requirement already satisfied: PySocks!=1.5.7,<2.0,>=1.5.6 in /Users/elsiana/opt/anaconda3/lib/python3.9/site-packages (from urllib3[socks]~=1.26->selenium==4.7.2) (1.7.1)\n",
      "Collecting h11<1,>=0.9.0\n",
      "  Using cached h11-0.14.0-py3-none-any.whl (58 kB)\n",
      "Installing collected packages: outcome, h11, exceptiongroup, async-generator, wsproto, trio, trio-websocket, selenium\n",
      "  Attempting uninstall: selenium\n",
      "    Found existing installation: selenium 3.3.1\n",
      "    Uninstalling selenium-3.3.1:\n",
      "      Successfully uninstalled selenium-3.3.1\n",
      "Successfully installed async-generator-1.10 exceptiongroup-1.1.0 h11-0.14.0 outcome-1.2.0 selenium-4.7.2 trio-0.22.0 trio-websocket-0.9.2 wsproto-1.2.0\n",
      "Note: you may need to restart the kernel to use updated packages.\n"
     ]
    }
   ],
   "source": [
    "pip install selenium==4.7.2"
   ]
  },
  {
   "cell_type": "code",
   "execution_count": 2,
   "id": "4a65133d",
   "metadata": {},
   "outputs": [],
   "source": [
    "import requests\n",
    "from bs4 import BeautifulSoup\n",
    "from selenium import webdriver\n",
    "from selenium.webdriver.chrome.service import Service\n",
    "from selenium.webdriver.common.by import By\n",
    "from selenium.webdriver.support.ui import WebDriverWait\n",
    "from selenium.webdriver.support import expected_conditions as EC\n",
    "import time\n",
    "import json\n",
    "import pandas as pd\n",
    "import seaborn as sns\n",
    "import matplotlib.pyplot as plt\n",
    "import os\n",
    "import numpy as np"
   ]
  },
  {
   "cell_type": "markdown",
   "id": "61a905fe",
   "metadata": {},
   "source": [
    "## II. Webdriver Installation"
   ]
  },
  {
   "cell_type": "markdown",
   "id": "9f4f491f",
   "metadata": {},
   "source": [
    "follow the setup instruction\n",
    "\n",
    "`https://sites.google.com/chromium.org/driver/getting-started`"
   ]
  },
  {
   "cell_type": "markdown",
   "id": "2ad81d0b",
   "metadata": {},
   "source": [
    "#### Here, we take Google Chrome browser as an example."
   ]
  },
  {
   "cell_type": "markdown",
   "id": "28854e41",
   "metadata": {},
   "source": [
    "First, go to top right corner of your browser, click the `three dots`; \n",
    "\n",
    "Then, select `Help` and then `About Google Chrome`;\n",
    "\n",
    "Check your `browser version` and download the corresponding driver from `https://sites.google.com/chromium.org/driver/downloads`\n",
    "\n",
    "(in terms of drivers for other browers, please see `https://selenium-python.readthedocs.io/installation.html#drivers)`"
   ]
  },
  {
   "cell_type": "markdown",
   "id": "49e8e805",
   "metadata": {},
   "source": [
    "After downloading the driver, unzip it and move it to the folder you like"
   ]
  },
  {
   "attachments": {
    "%E6%88%AA%E5%B1%8F2023-01-02%2017.30.55.png": {
     "image/png": "[encoded data removed]"
    }
   },
   "cell_type": "markdown",
   "id": "4b77ea2d",
   "metadata": {},
   "source": [
    "![%E6%88%AA%E5%B1%8F2023-01-02%2017.30.55.png](attachment:%E6%88%AA%E5%B1%8F2023-01-02%2017.30.55.png)"
   ]
  },
  {
   "cell_type": "markdown",
   "id": "def89247",
   "metadata": {},
   "source": [
    "Then double click the `chromrdriver` file, wait until it shows \n",
    "\n",
    "`ChromeDriver was started successfully.`\n",
    "\n",
    "Now, you can copy the file path of the driver as a parameter used following function.\n"
   ]
  },
  {
   "cell_type": "markdown",
   "id": "1af9a6d8",
   "metadata": {},
   "source": [
    "#### Keyboard Shortcut for copying file path: \n",
    "   ##### - windows: \n",
    "   \n",
    "   Press `Shift` + `Right Click` and simply click on `Copy as path`. OR \n",
    "   \n",
    "   Press `ALT` + `D`, the path will appear, highlighted. `Right click` over the highlighted text and select copy.\n",
    "    \n",
    "   ##### - mac:\n",
    "    \n",
    "   Press `command` + `option` + `c`."
   ]
  },
  {
   "cell_type": "markdown",
   "id": "f44981ba",
   "metadata": {},
   "source": [
    "## III. Related Project"
   ]
  },
  {
   "cell_type": "markdown",
   "id": "ffdb792c",
   "metadata": {},
   "source": [
    "We have also found another project in regards to steam data scraping using `API`. \n",
    "\n",
    "If you are interested in API, you may also have a look at this project:\n",
    "\n",
    "`https://nik-davis.github.io/posts/2019/steam-data-collection/`"
   ]
  },
  {
   "cell_type": "markdown",
   "id": "74abc253",
   "metadata": {},
   "source": [
    "## IV. API attempt"
   ]
  },
  {
   "cell_type": "markdown",
   "id": "1c949a13",
   "metadata": {},
   "source": [
    "To begin with, we would like to use the method used in abovementioned projects in terms of gathering Steam game item data by using API provided by another website called `SteamSpy` `(https://steamspy.com/)`. \n",
    "\n",
    "However, SteamSpy can provide a lot of useful information, but the data does match our expectation. Therefore, we ultimately used another way, but we would still like to share our attempt to scrape data via API.\n",
    "\n",
    "For detail information about SteamSpy API, please refer to `https://steamspy.com/api.php`."
   ]
  },
  {
   "cell_type": "code",
   "execution_count": 117,
   "id": "a905e23d",
   "metadata": {},
   "outputs": [],
   "source": [
    "url_test = 'https://steamspy.com/api.php'\n",
    "parameters = {\"request\": \"top100in2weeks\"} # more parameters can be found on https://steamspy.com/api.php.\n",
    "response = requests.get(url=url_test, params=parameters)\n",
    "json_data = response.json()\n",
    "df = pd.DataFrame.from_dict(json_data, orient='index')\n",
    "app_list = df.reset_index(drop=True)"
   ]
  },
  {
   "cell_type": "code",
   "execution_count": 118,
   "id": "6d814d7e",
   "metadata": {},
   "outputs": [
    {
     "data": {
      "text/html": [
       "<div>\n",
       "<style scoped>\n",
       "    .dataframe tbody tr th:only-of-type {\n",
       "        vertical-align: middle;\n",
       "    }\n",
       "\n",
       "    .dataframe tbody tr th {\n",
       "        vertical-align: top;\n",
       "    }\n",
       "\n",
       "    .dataframe thead th {\n",
       "        text-align: right;\n",
       "    }\n",
       "</style>\n",
       "<table border=\"1\" class=\"dataframe\">\n",
       "  <thead>\n",
       "    <tr style=\"text-align: right;\">\n",
       "      <th></th>\n",
       "      <th>appid</th>\n",
       "      <th>name</th>\n",
       "      <th>developer</th>\n",
       "      <th>publisher</th>\n",
       "      <th>score_rank</th>\n",
       "      <th>positive</th>\n",
       "      <th>negative</th>\n",
       "      <th>userscore</th>\n",
       "      <th>owners</th>\n",
       "      <th>average_forever</th>\n",
       "      <th>average_2weeks</th>\n",
       "      <th>median_forever</th>\n",
       "      <th>median_2weeks</th>\n",
       "      <th>price</th>\n",
       "      <th>initialprice</th>\n",
       "      <th>discount</th>\n",
       "      <th>ccu</th>\n",
       "    </tr>\n",
       "  </thead>\n",
       "  <tbody>\n",
       "    <tr>\n",
       "      <th>0</th>\n",
       "      <td>570</td>\n",
       "      <td>Dota 2</td>\n",
       "      <td>Valve</td>\n",
       "      <td>Valve</td>\n",
       "      <td></td>\n",
       "      <td>1586776</td>\n",
       "      <td>330192</td>\n",
       "      <td>0</td>\n",
       "      <td>200,000,000 .. 500,000,000</td>\n",
       "      <td>40447</td>\n",
       "      <td>1560</td>\n",
       "      <td>976</td>\n",
       "      <td>1084</td>\n",
       "      <td>0</td>\n",
       "      <td>0</td>\n",
       "      <td>0</td>\n",
       "      <td>581998</td>\n",
       "    </tr>\n",
       "    <tr>\n",
       "      <th>1</th>\n",
       "      <td>730</td>\n",
       "      <td>Counter-Strike: Global Offensive</td>\n",
       "      <td>Valve, Hidden Path Entertainment</td>\n",
       "      <td>Valve</td>\n",
       "      <td></td>\n",
       "      <td>6082011</td>\n",
       "      <td>800798</td>\n",
       "      <td>0</td>\n",
       "      <td>50,000,000 .. 100,000,000</td>\n",
       "      <td>29608</td>\n",
       "      <td>771</td>\n",
       "      <td>6381</td>\n",
       "      <td>271</td>\n",
       "      <td>0</td>\n",
       "      <td>0</td>\n",
       "      <td>0</td>\n",
       "      <td>1063175</td>\n",
       "    </tr>\n",
       "    <tr>\n",
       "      <th>2</th>\n",
       "      <td>578080</td>\n",
       "      <td>PUBG: BATTLEGROUNDS</td>\n",
       "      <td>KRAFTON, Inc.</td>\n",
       "      <td>KRAFTON, Inc.</td>\n",
       "      <td></td>\n",
       "      <td>1213688</td>\n",
       "      <td>917683</td>\n",
       "      <td>0</td>\n",
       "      <td>50,000,000 .. 100,000,000</td>\n",
       "      <td>22856</td>\n",
       "      <td>648</td>\n",
       "      <td>6688</td>\n",
       "      <td>189</td>\n",
       "      <td>0</td>\n",
       "      <td>0</td>\n",
       "      <td>0</td>\n",
       "      <td>343480</td>\n",
       "    </tr>\n",
       "    <tr>\n",
       "      <th>3</th>\n",
       "      <td>1063730</td>\n",
       "      <td>New World</td>\n",
       "      <td>Amazon Games</td>\n",
       "      <td>Amazon Games</td>\n",
       "      <td></td>\n",
       "      <td>174491</td>\n",
       "      <td>75525</td>\n",
       "      <td>0</td>\n",
       "      <td>50,000,000 .. 100,000,000</td>\n",
       "      <td>8257</td>\n",
       "      <td>1454</td>\n",
       "      <td>3567</td>\n",
       "      <td>1311</td>\n",
       "      <td>3999</td>\n",
       "      <td>3999</td>\n",
       "      <td>0</td>\n",
       "      <td>35651</td>\n",
       "    </tr>\n",
       "    <tr>\n",
       "      <th>4</th>\n",
       "      <td>1172470</td>\n",
       "      <td>Apex Legends</td>\n",
       "      <td>Respawn Entertainment</td>\n",
       "      <td>Electronic Arts</td>\n",
       "      <td></td>\n",
       "      <td>483278</td>\n",
       "      <td>92741</td>\n",
       "      <td>0</td>\n",
       "      <td>50,000,000 .. 100,000,000</td>\n",
       "      <td>6705</td>\n",
       "      <td>746</td>\n",
       "      <td>605</td>\n",
       "      <td>362</td>\n",
       "      <td>0</td>\n",
       "      <td>0</td>\n",
       "      <td>0</td>\n",
       "      <td>336459</td>\n",
       "    </tr>\n",
       "  </tbody>\n",
       "</table>\n",
       "</div>"
      ],
      "text/plain": [
       "     appid                              name  \\\n",
       "0      570                            Dota 2   \n",
       "1      730  Counter-Strike: Global Offensive   \n",
       "2   578080               PUBG: BATTLEGROUNDS   \n",
       "3  1063730                         New World   \n",
       "4  1172470                      Apex Legends   \n",
       "\n",
       "                          developer        publisher score_rank  positive  \\\n",
       "0                             Valve            Valve              1586776   \n",
       "1  Valve, Hidden Path Entertainment            Valve              6082011   \n",
       "2                     KRAFTON, Inc.    KRAFTON, Inc.              1213688   \n",
       "3                      Amazon Games     Amazon Games               174491   \n",
       "4             Respawn Entertainment  Electronic Arts               483278   \n",
       "\n",
       "   negative  userscore                      owners  average_forever  \\\n",
       "0    330192          0  200,000,000 .. 500,000,000            40447   \n",
       "1    800798          0   50,000,000 .. 100,000,000            29608   \n",
       "2    917683          0   50,000,000 .. 100,000,000            22856   \n",
       "3     75525          0   50,000,000 .. 100,000,000             8257   \n",
       "4     92741          0   50,000,000 .. 100,000,000             6705   \n",
       "\n",
       "   average_2weeks  median_forever  median_2weeks price initialprice discount  \\\n",
       "0            1560             976           1084     0            0        0   \n",
       "1             771            6381            271     0            0        0   \n",
       "2             648            6688            189     0            0        0   \n",
       "3            1454            3567           1311  3999         3999        0   \n",
       "4             746             605            362     0            0        0   \n",
       "\n",
       "       ccu  \n",
       "0   581998  \n",
       "1  1063175  \n",
       "2   343480  \n",
       "3    35651  \n",
       "4   336459  "
      ]
     },
     "execution_count": 118,
     "metadata": {},
     "output_type": "execute_result"
    }
   ],
   "source": [
    "app_list.head()"
   ]
  },
  {
   "cell_type": "markdown",
   "id": "a4d9170e",
   "metadata": {},
   "source": [
    "## V. Steam data scraping"
   ]
  },
  {
   "cell_type": "markdown",
   "id": "5946fb18",
   "metadata": {},
   "source": [
    "### Get urls"
   ]
  },
  {
   "cell_type": "markdown",
   "id": "60ed8996",
   "metadata": {},
   "source": [
    "Since the Steam leaderboard section is a `dynamically updated web page`, we use the selenium library in python to simulate access to the web page and thus obtain the leaderboard section"
   ]
  },
  {
   "cell_type": "markdown",
   "id": "2054664e",
   "metadata": {},
   "source": [
    "We found that Steam's leaderboard requires a click on the `See all 100` button at the bottom in order to  load to show all the top 100 games. We therefore used `find_element_by_xpath()` to locate the button element and used `click()` to complete the automatic click."
   ]
  },
  {
   "cell_type": "markdown",
   "id": "af8d2ec9",
   "metadata": {},
   "source": [
    "Since the code performs the click before the page is loaded, the above approach does not work. We therefore chose to use Selenium's `explicit wait` to wait for the page to finish loading before performing the click"
   ]
  },
  {
   "cell_type": "code",
   "execution_count": 119,
   "id": "1d2d6140",
   "metadata": {},
   "outputs": [],
   "source": [
    "def get_links (url, chromedriver_path): # chromedriver_path is the location of your chromedriver file \n",
    "    s = Service(chromedriver_path)\n",
    "    driver = webdriver.Chrome(service=s)   \n",
    "    driver.get(url)\n",
    "    element = WebDriverWait(driver, 10).until(\n",
    "        EC.presence_of_element_located((By.XPATH, \"//*[@id='application_root']/div/div/div/div/div[4]/div/button\"))\n",
    "    )\n",
    "    element.click()\n",
    "    \n",
    "    time.sleep(10)\n",
    "    html = driver.page_source\n",
    "    soup = BeautifulSoup(html, \"html.parser\")\n",
    "\n",
    "    data = soup.find_all('tr',{'class':'weeklytopsellers_TableRow_2-RN6'})\n",
    "\n",
    "    top_100 = []\n",
    "    for d in data:\n",
    "        link = d.find('a', {'class':'weeklytopsellers_TopChartItem_2C5PJ'})\n",
    "        top_100.append(link['href'])\n",
    "\n",
    "    return top_100"
   ]
  },
  {
   "cell_type": "markdown",
   "id": "1ee8c45a",
   "metadata": {},
   "source": [
    "### Get Game detail"
   ]
  },
  {
   "cell_type": "markdown",
   "id": "6744379a",
   "metadata": {},
   "source": [
    " We plan to get `game title`, `genre`, `developer`, `publisher`, `release data`, `review scores`, `votes`, `user defined tags`, `platform supported` and if the game is `VR supported`."
   ]
  },
  {
   "cell_type": "code",
   "execution_count": 120,
   "id": "fc1eb3fb",
   "metadata": {},
   "outputs": [],
   "source": [
    "def get_details (urls):\n",
    "    detail_list = []\n",
    "    for url in urls:\n",
    "        response = requests.get(url)\n",
    "        soup = BeautifulSoup(response.text, 'html.parser')\n",
    "        \n",
    "# get game title \n",
    "        try:\n",
    "            game_title = soup.find('div', {'class':'details_block'}).b.next_sibling.strip()\n",
    "        except:\n",
    "            game_title = ''\n",
    "\n",
    "# get game genre    \n",
    "        try:\n",
    "            list1 = soup.find('div', {'id':'genresAndManufacturer', 'class':'details_block'}).text.split('Genre: ')\n",
    "            genre = list1[1].split('\\n\\n')[0]\n",
    "        except:\n",
    "            genre = ''\n",
    "\n",
    "# get game developer    \n",
    "        try:\n",
    "            list2 = soup.find('div', {'id':'genresAndManufacturer', 'class':'details_block'}).text.split('Developer:\\n')\n",
    "            developer = dev = list2[1].split('\\n\\n\\n')[0]\n",
    "        except:\n",
    "            developer = ''\n",
    "\n",
    "# get publisher\n",
    "        try:\n",
    "            publisher = soup.find('div', {'id':'genresAndManufacturer', 'class':'details_block'}).text.split('\\n')[9]\n",
    "        except:\n",
    "            publisher = ''\n",
    "            \n",
    "# get release date\n",
    "        try:\n",
    "            release_date = soup.find('div', {'id':'genresAndManufacturer', 'class':'details_block'}).text.split('Release Date:')[1].replace('\\n', '').strip()\n",
    "        except:\n",
    "            release_date = ''\n",
    "    \n",
    "    \n",
    "# get all reviews\n",
    "        try:\n",
    "            all_reviews = soup.find('span', {'itemprop':'description'}).text\n",
    "        except:\n",
    "            all_reviews = ''\n",
    "    \n",
    "# get all votes\n",
    "        try:\n",
    "            all_votes = soup.find('span', {'class':'responsive_hidden'}).text.replace('\\r\\n\\t\\t\\t\\t\\t\\t\\t\\t\\t\\t\\t\\t\\t(', '').replace(')\\r\\n\\t\\t\\t\\t\\t\\t\\t\\t\\t\\t\\t\\t', '')\n",
    "        except:\n",
    "            all_votes = ''\n",
    "            \n",
    "            \n",
    "# get user defined tags    \n",
    "        try:\n",
    "            info2 = soup.find('div', {'data-panel':'{\"flow-children\":\"row\"}', 'class':'glance_tags popular_tags'})\n",
    "            tag_list = info2.find_all('a')\n",
    "            tags = []\n",
    "            for t in tag_list:\n",
    "                text = t.text.replace('\\r\\n\\t\\t\\t\\t\\t\\t\\t\\t\\t\\t\\t\\t', '')\n",
    "                tags.append(text.replace('\\t\\t\\t\\t\\t\\t\\t\\t\\t\\t\\t\\t', ''))\n",
    "                tags = tags[0:5]\n",
    "            user_defined_tags = ', '.join(tags)\n",
    "        except:\n",
    "            user_defined_tags = ''\n",
    "    \n",
    "# platform and vr supported\n",
    "        try:\n",
    "            win_list = soup.find_all('span', {'class':'platform_img win'})\n",
    "            win = ''\n",
    "            if win_list:\n",
    "                win = 'Yes'\n",
    "            else:\n",
    "                win = 'No'\n",
    "\n",
    "            mac_list = soup.find_all('span', {'class':'platform_img mac'})\n",
    "            mac = ''\n",
    "            if mac_list:\n",
    "                mac = 'Yes'\n",
    "            else:\n",
    "                mac = 'No'\n",
    "\n",
    "            linux_list = soup.find_all('span', {'class':'platform_img linux'})\n",
    "            linux = ''\n",
    "            if linux_list:\n",
    "                linux = 'Yes'\n",
    "            else:\n",
    "                linux = 'No'\n",
    "\n",
    "            vr_list = soup.find_all('span', {'class':'vr_supported'})\n",
    "            vr = ''\n",
    "            if vr_list:\n",
    "                vr = 'Yes'\n",
    "            else:\n",
    "                vr = 'No'\n",
    "        except:\n",
    "            win = ''\n",
    "            mac = ''\n",
    "            linux = ''\n",
    "            vr = ''\n",
    "        \n",
    "# get list\n",
    "        detail = [game_title, genre, developer, publisher, release_date, all_reviews, all_votes, user_defined_tags, win, mac, linux, vr]\n",
    "        detail_list.append(detail)\n",
    "\n",
    "    return detail_list"
   ]
  },
  {
   "cell_type": "markdown",
   "id": "b451f9e0",
   "metadata": {},
   "source": [
    "### Get csv file"
   ]
  },
  {
   "cell_type": "code",
   "execution_count": 4,
   "id": "347d2402",
   "metadata": {},
   "outputs": [],
   "source": [
    "def get_steam_csv (urls, filename):\n",
    "    df = pd.DataFrame(get_details (urls))\n",
    "    df.columns = ['Game_Title', 'Genre', 'Developer','Publisher', 'Release_Date', 'All_Reviews', \n",
    "              'All_Votes', 'User_Defined_Tags', 'Win', 'Mac', 'Linux', 'VR_Supported']\n",
    "    return df.to_csv(filename, encoding='utf-8')"
   ]
  },
  {
   "cell_type": "markdown",
   "id": "dd08ceea",
   "metadata": {},
   "source": [
    "### Data Cleaning"
   ]
  },
  {
   "cell_type": "markdown",
   "id": "714e616a",
   "metadata": {},
   "source": [
    "After observing the exported files, we have found that due to website structure and some other reasons, there are some empty rows in the file. Meanwhile, some release dates are attached with `Early Access`. All these will cause troubles during data describing the process. Therefore, a data-cleaning process is necessary. "
   ]
  },
  {
   "cell_type": "code",
   "execution_count": 122,
   "id": "44a91568",
   "metadata": {},
   "outputs": [],
   "source": [
    "def data_clean(csv_path):\n",
    "    df = pd.read_csv(csv_path, encoding = 'utf-8').dropna().drop(columns=['Unnamed: 0'])\n",
    "    df['Release_Date'] = df['Release_Date'].replace('Early Access', '', regex=True)\n",
    "    return df"
   ]
  },
  {
   "cell_type": "markdown",
   "id": "317eaafa",
   "metadata": {},
   "source": [
    "### Get labels"
   ]
  },
  {
   "cell_type": "markdown",
   "id": "c21a8f8b",
   "metadata": {},
   "source": [
    "In columns such as `Genre` and `Use_Defined_Tages` there are two or more labels, therefore in this step we need to split these cells to generate a new Dataframe to assist in the subsequent part of the description of the data.\n",
    "\n",
    "In later practice we find that there could be spaces before and after some data, which could affect subsequent analysis and calculations, so we remove the spaces here in the output of the labels."
   ]
  },
  {
   "cell_type": "code",
   "execution_count": 3,
   "id": "f137eb1e",
   "metadata": {},
   "outputs": [],
   "source": [
    "def get_labels(df, column):\n",
    "    labels = df[column].str.split(',', expand=True)\n",
    "    return labels.apply(lambda x: x.str.strip() if x.dtype == \"object\" else x)"
   ]
  },
  {
   "cell_type": "markdown",
   "id": "26f9ffd5",
   "metadata": {},
   "source": [
    " "
   ]
  },
  {
   "cell_type": "markdown",
   "id": "ba29b4ad",
   "metadata": {},
   "source": [
    "## VI. Visualisation"
   ]
  },
  {
   "cell_type": "markdown",
   "id": "7dc9d55a",
   "metadata": {},
   "source": [
    "Here we take Global, China, Japan and the Netherlands as an example."
   ]
  },
  {
   "cell_type": "code",
   "execution_count": 18,
   "id": "d37f97bf",
   "metadata": {},
   "outputs": [],
   "source": [
    "folder_path = 'data/'\n",
    "csv_files = [file for file in os.listdir('data/') if file.endswith('.csv')]\n",
    "\n",
    "# You may change the files to the ones you would like to compare. \n",
    "csv_files = [file for file in csv_files if file in [\"Steam_Games_Top100_CN_w_c_20Dec.csv\", \n",
    "                                                   \"Steam_Games_Top100_GL_w_c_20Dec.csv\", \n",
    "                                                   \"Steam_Games_Top100_JP_w_c_20Dec.csv\", \n",
    "                                                   \"Steam_Games_Top100_NL_w_c_20Dec.csv\"]]\n",
    "\n",
    "dataframes = []\n",
    "for file in csv_files:\n",
    "    file_path = os.path.join(folder_path, file)\n",
    "    df = pd.read_csv(file_path)\n",
    "    dataframes.append(df)\n",
    "\n",
    "df=pd.concat(dataframes)\n",
    "df=df[[\"Game_Title\",\"Genre\"]]\n",
    "d1={}\n",
    "all_types=[]\n",
    "for index, row in df.iterrows():\n",
    "    if(row[\"Genre\"]==row[\"Genre\"]):\n",
    "        name=row[\"Game_Title\"]\n",
    "        x=row[\"Genre\"]\n",
    "        x2=x.split(\",\")\n",
    "        x3=[data.strip(\" \") for data in x2]\n",
    "        d1[name]=x3\n",
    "        all_types.extend(x3)\n",
    "all_types=[type for type in set(all_types)]\n",
    "\n",
    "\n",
    "ds=[]\n",
    "d_last={}\n",
    "for df in dataframes:\n",
    "    d={}\n",
    "    for str in df[\"Genre\"]:\n",
    "        for type in all_types:\n",
    "            if(str==str):\n",
    "                if(type in str):\n",
    "                    if(type in d.keys()):\n",
    "                        d[type]+=1\n",
    "                    else:\n",
    "                        d[type]=1\n",
    "    ds.append(d)\n",
    "l=[]\n",
    "for type in all_types:\n",
    "    l2=[]\n",
    "\n",
    "    for d in ds:\n",
    "        if(type in d.keys()):\n",
    "            l2.append(d[type])\n",
    "        else:\n",
    "            l2.append(0)\n",
    "    l.append(l2)\n"
   ]
  },
  {
   "cell_type": "code",
   "execution_count": 19,
   "id": "f7b12b0a",
   "metadata": {},
   "outputs": [
    {
     "data": {
      "image/png": "[encoded data removed]",
      "text/plain": [
       "<Figure size 864x576 with 1 Axes>"
      ]
     },
     "metadata": {
      "needs_background": "light"
     },
     "output_type": "display_data"
    }
   ],
   "source": [
    "x = np.arange(len(all_types))\n",
    "l2=[[],[],[],[]]\n",
    "for data in l:\n",
    "    for i in range(0,4):\n",
    "        l2[i].append(data[i])\n",
    "ys=l2\n",
    "bar_width = 0.2\n",
    "tick_label=all_types\n",
    "labels=[\"CN\",\"GLOBAL\",\"JP\",\"NL\"]\n",
    "plt.figure(figsize=(12,8))\n",
    "for i,y in enumerate(ys):\n",
    "    plt.bar(x+i*bar_width, y, bar_width,label=labels[i])\n",
    "    \n",
    "tick_label=all_types\n",
    "plt.ylabel('Count')\n",
    "plt.xlabel('Genre')\n",
    "plt.title('Steam_Games_Genre_Top100_CN_JP_NL_GL')\n",
    "plt.xticks(x, tick_label)\n",
    "plt.xticks(rotation=90)\n",
    "plt.legend()\n",
    "plt.show()"
   ]
  },
  {
   "cell_type": "markdown",
   "id": "3fd3bfe9",
   "metadata": {},
   "source": [
    " "
   ]
  },
  {
   "cell_type": "markdown",
   "id": "1e3e46b7",
   "metadata": {},
   "source": [
    " "
   ]
  },
  {
   "cell_type": "markdown",
   "id": "9d0d0657",
   "metadata": {},
   "source": [
    "## VII. Active Learning"
   ]
  },
  {
   "cell_type": "markdown",
   "id": "cf44c952",
   "metadata": {},
   "source": [
    "### Given by the the tables of ranking of Top 100 games on steam platform , you are expected to find a way to analyze our charts and discover some visible trends."
   ]
  },
  {
   "cell_type": "markdown",
   "id": "30b83094",
   "metadata": {},
   "source": [
    "Note that you might apply the `function` you have previously learned. \n",
    "\n",
    "A Grand Data Projects is not necessarily, still you can make more elaborate charts by checking out more information for helpful optional parameters via these websites below.\n",
    "\n",
    "`https://steamdb.info/`\n",
    "\n",
    "`https://steamdb.info/faq/#how-are-we-getting-this-information`"
   ]
  },
  {
   "cell_type": "markdown",
   "id": "1e94e6a6",
   "metadata": {},
   "source": [
    "#### 1.Try to identify the most popular game genres and tags in the South Korea of last week (depending on your current date) and analyse what you think are the main reasons for this trend based on the data of the Netherlands region on steam."
   ]
  },
  {
   "cell_type": "code",
   "execution_count": null,
   "id": "2d25e818",
   "metadata": {},
   "outputs": [],
   "source": []
  },
  {
   "cell_type": "code",
   "execution_count": null,
   "id": "8d579d0f",
   "metadata": {},
   "outputs": [],
   "source": []
  },
  {
   "cell_type": "markdown",
   "id": "98bec15b",
   "metadata": {},
   "source": [
    " "
   ]
  },
  {
   "cell_type": "markdown",
   "id": "c2cbc10c",
   "metadata": {},
   "source": [
    "#### 2. How much does the popularity of a game correlate with its release date, and do newer games tend to be more popular?"
   ]
  },
  {
   "cell_type": "code",
   "execution_count": null,
   "id": "ee4de5d7",
   "metadata": {},
   "outputs": [],
   "source": []
  },
  {
   "cell_type": "code",
   "execution_count": null,
   "id": "37801527",
   "metadata": {},
   "outputs": [],
   "source": []
  },
  {
   "cell_type": "markdown",
   "id": "d64c2010",
   "metadata": {},
   "source": [
    " "
   ]
  },
  {
   "cell_type": "markdown",
   "id": "6e9188ec",
   "metadata": {},
   "source": [
    "#### 3. How similar is the US ranking chart for the popularity of games on the Steam platform to the global ranking chart?"
   ]
  },
  {
   "cell_type": "code",
   "execution_count": null,
   "id": "1d5f82d2",
   "metadata": {},
   "outputs": [],
   "source": []
  },
  {
   "cell_type": "code",
   "execution_count": null,
   "id": "6ee8716d",
   "metadata": {},
   "outputs": [],
   "source": []
  },
  {
   "cell_type": "markdown",
   "id": "0aca8c34",
   "metadata": {},
   "source": [
    " "
   ]
  },
  {
   "cell_type": "markdown",
   "id": "74e808db",
   "metadata": {},
   "source": [
    "#### 4. What are the differences in the popular game genres on steam platform between China and Japan, which are also Asian countries?"
   ]
  },
  {
   "cell_type": "code",
   "execution_count": null,
   "id": "60c3cb6c",
   "metadata": {},
   "outputs": [],
   "source": []
  },
  {
   "cell_type": "code",
   "execution_count": null,
   "id": "d599edef",
   "metadata": {},
   "outputs": [],
   "source": []
  }
 ],
 "metadata": {
  "kernelspec": {
   "display_name": "Python 3 (ipykernel)",
   "language": "python",
   "name": "python3"
  },
  "language_info": {
   "codemirror_mode": {
    "name": "ipython",
    "version": 3
   },
   "file_extension": ".py",
   "mimetype": "text/x-python",
   "name": "python",
   "nbconvert_exporter": "python",
   "pygments_lexer": "ipython3",
   "version": "3.9.12"
  }
 },
 "nbformat": 4,
 "nbformat_minor": 5
}

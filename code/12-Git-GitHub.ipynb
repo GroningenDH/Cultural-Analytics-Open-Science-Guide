{
 "cells": [
  {
   "cell_type": "markdown",
   "metadata": {},
   "source": [
    "# Git and GitHub"
   ]
  },
  {
   "cell_type": "markdown",
   "metadata": {},
   "source": [
    "## What is Git? \n",
    "Git is a version control system, which helps you keep track of the changes that you make in a project. It's a bit like Google Docs or MS Word's Track Changes, except it's typically used for code.\n",
    "\n",
    "## Why is Git Useful? \n",
    "Even though Git is mostly used for code, it's useful to think about Git in relationship to writing projects, which you might be more familiar with.\n",
    "\n",
    "Let's say you're halfway through writing an essay when suddenly you come up with a brilliant idea for a different opening paragraph. Maybe you're tempted to delete the opening paragraph that you've already written and start a new one, but you're scared that the new paragraph won't be quite as brilliant as it seems in your head.\n",
    "\n",
    "With a version control system like Git, you would be able to save the current version of the essay, create another version of the essay with the seemingly brilliant new opening paragraph, and compare them. If you ended up liking the version with the new opening paragraph better, you could easily merge it into the main version of the essay. Even if you changed your mind the next day, you could still revert back to the version with the original opening paragraph. All the changes and updates would be carefully tracked and easily navigable.\n",
    "\n",
    "These are some of the things that make Git so useful, especially when you start working on bigger projects and complicated code.\n",
    "\n",
    "## What is GitHub? \n",
    "GitHub is a website/social network that's built on top of the Git version control software. It allows you to store and easily publish projects. GitHub has become a primary place for people to publish datasets and share code. Remember The Pudding's film dialogue data? They published it [on GitHub](https://github.com/matthewfdaniels/scripts/)!"
   ]
  },
  {
   "cell_type": "markdown",
   "metadata": {},
   "source": [
    "## Negative Critiques of GitHub"
   ]
  },
  {
   "cell_type": "markdown",
   "metadata": {},
   "source": [
    "<a href=\"https://www.theatlantic.com/technology/archive/2020/01/ice-contract-github-sparks-developer-protests/604339/\" ><img src=\"../images/GitHub-ICE-protest.png\" width=100% ></a >"
   ]
  },
  {
   "cell_type": "markdown",
   "metadata": {},
   "source": [
    "It's also important to foreground some recent backlash against GitHub regarding their decision to renew a contract with U.S. Immigrations and Customs Enforcement (ICE). This decision has motivated some employees, developers, and GitHub users to protest and/or boycott the platform.\n",
    "\n",
    "You can read more about the controversy in [\"The Schism at the Heart of the Open-Source Movement\"](https://www.theatlantic.com/technology/archive/2020/01/ice-contract-github-sparks-developer-protests/604339/) and [Dear GitHub](https://github.com/drop-ice/dear-github-2.0/blob/master/README.md)."
   ]
  },
  {
   "cell_type": "markdown",
   "metadata": {},
   "source": [
    "## Anatomy of a GitHub Page"
   ]
  },
  {
   "cell_type": "markdown",
   "metadata": {},
   "source": [
    "<img src=\"../images/GitHub-Anatomy.png\" width=100% >"
   ]
  },
  {
   "cell_type": "markdown",
   "metadata": {},
   "source": [
    "## Install Git"
   ]
  },
  {
   "cell_type": "markdown",
   "metadata": {},
   "source": [
    "To use Git, you first need to install Git. Instructions for [installing Git can be found here](https://git-scm.com/book/en/v2/Getting-Started-Installing-Git).\n",
    "\n",
    "To install Git on a Windows computer, you need to install something called Git for Windows (which comes with something called Git Bash). The Digital Humanities Research Institute offers [helpful step-by-step instructions](https://github.com/DHRI-Curriculum/install/blob/master/sections/git.md#windows) here."
   ]
  },
  {
   "cell_type": "code",
   "execution_count": 18,
   "metadata": {
    "tags": [
     "command_line"
    ]
   },
   "outputs": [
    {
     "name": "stdout",
     "output_type": "stream",
     "text": [
      "git version 2.21.1 (Apple Git-122.3)\n"
     ]
    }
   ],
   "source": [
    "!git --version"
   ]
  },
  {
   "cell_type": "markdown",
   "metadata": {},
   "source": [
    "## Download a GitHub Repository"
   ]
  },
  {
   "cell_type": "markdown",
   "metadata": {},
   "source": [
    "To download an entire GitHub repository, first click the green \"Clone or download button\" and then copy the URL."
   ]
  },
  {
   "cell_type": "markdown",
   "metadata": {},
   "source": [
    "<img src=\"../images/clone-button.png\" width=100% >"
   ]
  },
  {
   "cell_type": "markdown",
   "metadata": {},
   "source": [
    "Then, from the command line (or from Git Bash), type `git clone` and paste the URL for the desired GitHub repo."
   ]
  },
  {
   "cell_type": "code",
   "execution_count": 40,
   "metadata": {
    "tags": [
     "command_line"
    ]
   },
   "outputs": [
    {
     "name": "stdout",
     "output_type": "stream",
     "text": [
      "Cloning into 'Intro-Cultural-Analytics-Notebooks'...\n",
      "remote: Enumerating objects: 48, done.\u001b[K\n",
      "remote: Counting objects: 100% (48/48), done.\u001b[K\n",
      "remote: Compressing objects: 100% (39/39), done.\u001b[K\n",
      "remote: Total 48 (delta 7), reused 44 (delta 6), pack-reused 0\u001b[K\n",
      "Unpacking objects: 100% (48/48), done.\n"
     ]
    }
   ],
   "source": [
    "!git clone https://github.com/melaniewalsh/Intro-Cultural-Analytics-Notebooks.git"
   ]
  },
  {
   "cell_type": "markdown",
   "metadata": {},
   "source": [
    "This `git clone` command should download a folder called \"Intro-Cultural-Analytics-Notebooks,\" which contains all the files and folders in the repository."
   ]
  },
  {
   "cell_type": "markdown",
   "metadata": {},
   "source": [
    "If you navigate into that folder and list its contents, you can see that it matches the GitHub website."
   ]
  },
  {
   "cell_type": "code",
   "execution_count": 41,
   "metadata": {
    "tags": [
     "command_line"
    ]
   },
   "outputs": [
    {
     "name": "stdout",
     "output_type": "stream",
     "text": [
      "/Users/melaniewalsh/Intro-Cultural-Analytics/Website-Content/Collecting-Cultural-Data/Intro-Cultural-Analytics-Notebooks\n"
     ]
    }
   ],
   "source": [
    "cd Intro-Cultural-Analytics-Notebooks/"
   ]
  },
  {
   "cell_type": "code",
   "execution_count": 42,
   "metadata": {
    "tags": [
     "command_line"
    ]
   },
   "outputs": [
    {
     "name": "stdout",
     "output_type": "stream",
     "text": [
      "\u001b[34mCollecting-Cultural-Data\u001b[m\u001b[m/ \u001b[34mPython\u001b[m\u001b[m/                   \u001b[34mdata\u001b[m\u001b[m/\n",
      "\u001b[34mCultural-Data-Analysis\u001b[m\u001b[m/   README.md                 something_new.txt\n"
     ]
    }
   ],
   "source": [
    "ls"
   ]
  },
  {
   "cell_type": "markdown",
   "metadata": {},
   "source": [
    "## Update a GitHub Repository"
   ]
  },
  {
   "cell_type": "markdown",
   "metadata": {},
   "source": [
    "Ok here's where Git will be very convenient. If I update the \"Introduction to Cultural Analytics\" repository with new files, you can update your copy of the repository and get those new files with a single command `git pull`, which \"pulls\" down the updates from GitHub."
   ]
  },
  {
   "cell_type": "markdown",
   "metadata": {},
   "source": [
    "For example, I just added a new file called \"something_newer.txt\", and if you run the `git pull` command..."
   ]
  },
  {
   "cell_type": "code",
   "execution_count": 43,
   "metadata": {
    "tags": [
     "command_line"
    ]
   },
   "outputs": [
    {
     "name": "stdout",
     "output_type": "stream",
     "text": [
      "remote: Enumerating objects: 4, done.\u001b[K\n",
      "remote: Counting objects: 100% (4/4), done.\u001b[K\n",
      "remote: Compressing objects: 100% (1/1), done.\u001b[K\n",
      "remote: Total 3 (delta 1), reused 3 (delta 1), pack-reused 0\u001b[K\n",
      "Unpacking objects: 100% (3/3), done.\n",
      "From https://github.com/melaniewalsh/Intro-Cultural-Analytics-Notebooks\n",
      "   2fd60e3..c786385  master     -> origin/master\n",
      "Updating 2fd60e3..c786385\n",
      "Fast-forward\n",
      " something_newer.txt | 1 \u001b[32m+\u001b[m\n",
      " 1 file changed, 1 insertion(+)\n",
      " create mode 100644 something_newer.txt\n"
     ]
    }
   ],
   "source": [
    "!git pull"
   ]
  },
  {
   "cell_type": "markdown",
   "metadata": {},
   "source": [
    "then it will update the repository and download that file into the right place. To double check, you can run `ls` and see that \"something_newer.txt\" is now there."
   ]
  },
  {
   "cell_type": "code",
   "execution_count": 44,
   "metadata": {
    "tags": [
     "command_line"
    ]
   },
   "outputs": [
    {
     "name": "stdout",
     "output_type": "stream",
     "text": [
      "\u001b[34mCollecting-Cultural-Data\u001b[m\u001b[m/ README.md                 something_newer.txt\n",
      "\u001b[34mCultural-Data-Analysis\u001b[m\u001b[m/   \u001b[34mdata\u001b[m\u001b[m/\n",
      "\u001b[34mPython\u001b[m\u001b[m/                   something_new.txt\n"
     ]
    }
   ],
   "source": [
    "ls"
   ]
  }
 ],
 "metadata": {
  "kernelspec": {
   "display_name": "Python 3",
   "language": "python",
   "name": "python3"
  },
  "language_info": {
   "codemirror_mode": {
    "name": "ipython",
    "version": 3
   },
   "file_extension": ".py",
   "mimetype": "text/x-python",
   "name": "python",
   "nbconvert_exporter": "python",
   "pygments_lexer": "ipython3",
   "version": "3.8.8"
  }
 },
 "nbformat": 4,
 "nbformat_minor": 4
}
